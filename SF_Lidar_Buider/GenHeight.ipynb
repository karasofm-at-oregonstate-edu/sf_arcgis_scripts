{
 "cells": [
  {
   "cell_type": "code",
   "execution_count": 1,
   "metadata": {},
   "outputs": [],
   "source": [
    "import arcpy\n",
    "import numpy as np\n",
    "import time\n",
    "\n",
    "DATA_PATH=r\"C:\\Users\\mike\\Documents\\OSU\\GEOG581\\Project\\sf_terrain\\MyProject1\"\n",
    "\n",
    "arcpy.env.workspace=DATA_PATH\n",
    "PROJ_PROJ=\"PROJCS['WGS_1984_UTM_Zone_10N',GEOGCS['GCS_WGS_1984',\\\n",
    "    DATUM['D_WGS_1984',SPHEROID['WGS_1984',6378137.0,298.257223563]],\\\n",
    "    PRIMEM['Greenwich',0.0],UNIT['Degree',0.0174532925199433]],\\\n",
    "    PROJECTION['Transverse_Mercator'],PARAMETER['False_Easting',500000.0],\\\n",
    "    PARAMETER['False_Northing',0.0],PARAMETER['Central_Meridian',-123.0],\\\n",
    "    PARAMETER['Scale_Factor',0.9996],PARAMETER['Latitude_Of_Origin',0.0],UNIT['Meter',1.0]]\" \n",
    "\n"
   ]
  },
  {
   "cell_type": "code",
   "execution_count": 2,
   "metadata": {},
   "outputs": [
    {
     "data": {
      "text/plain": [
       "'C:\\\\Users\\\\mike\\\\Documents\\\\OSU\\\\GEOG581\\\\Project\\\\sf_terrain\\\\MyProject1'"
      ]
     },
     "execution_count": 2,
     "metadata": {},
     "output_type": "execute_result"
    }
   ],
   "source": [
    "arcpy.env.workspace"
   ]
  },
  {
   "cell_type": "code",
   "execution_count": 4,
   "metadata": {},
   "outputs": [
    {
     "ename": "NameError",
     "evalue": "name 'PROJ_PROJ' is not defined",
     "output_type": "error",
     "traceback": [
      "\u001b[0;31m---------------------------------------------------------------------------\u001b[0m\n\u001b[0;31mNameError\u001b[0m                                 Traceback (most recent call last)",
      "In  \u001b[0;34m[4]\u001b[0m:\nLine \u001b[0;34m7\u001b[0m:     PROJ_PROJ, \u001b[33m\"\u001b[39;49;00m\u001b[33m32_BIT_FLOAT\u001b[39;49;00m\u001b[33m\"\u001b[39;49;00m, \u001b[34m1\u001b[39;49;00m, \u001b[34m1\u001b[39;49;00m, \n",
      "\u001b[0;31mNameError\u001b[0m: name 'PROJ_PROJ' is not defined\n\u001b[0;31m---------------------------------------------------------------------------\u001b[0m"
     ]
    }
   ],
   "source": [
    "arcpy.management.MosaicToNewRaster(\"ned\\\\ned19_n37x75_w122x50_ca_sanfrancisco_topobathy_2010\\\\ned19_n37x75_w122x50_ca_sanfrancisco_topobathy_2010.img;\\\n",
    "                            ned\\\\ned19_n37x75_w122x75_ca_sanfrancisco_topobathy_2010\\\\ned19_n37x75_w122x75_ca_sanfrancisco_topobathy_2010.img;\\\n",
    "                            ned\\\\ned19_n38x00_w122x50_ca_sanfrancisco_topobathy_2010\\\\ned19_n38x00_w122x50_ca_sanfrancisco_topobathy_2010.img;\\\n",
    "                            ned\\\\ned19_n38x00_w122x75_ca_sanfrancisco_topobathy_2010\\ned19_n38x00_w122x75_ca_sanfrancisco_topobathy_2010.img\",\n",
    "                            r\"C:\\Users\\mike\\Documents\\OSU\\GEOG581\\Project\\sf_terrain\\MyProject1\\MyProject1.gdb\", \n",
    "                            \"sf_ned\",     \n",
    "                            PROJ_PROJ, \"32_BIT_FLOAT\", 1, 1, \n",
    "                            \"LAST\", \"FIRST\")\n",
    "\n"
   ]
  },
  {
   "cell_type": "code",
   "execution_count": 6,
   "metadata": {},
   "outputs": [
    {
     "data": {
      "text/html": [
       "<h2>Output</h2>dem_sf1\\sf1_output_lower.tif<h2>Messages</h2>Start Time: Monday, May 31, 2021 5:43:31 PM<br/>Building Pyramids...<br/>Succeeded at Monday, May 31, 2021 5:43:53 PM (Elapsed Time: 22.71 seconds)<br/><style>.rendered_html td, .rendered_html th {text-align: left;}.rendered_html tbody {border: 1px solid black;}</style>"
      ],
      "text/plain": [
       "<Result 'dem_sf1\\\\sf1_output_lower.tif'>"
      ]
     },
     "execution_count": 6,
     "metadata": {},
     "output_type": "execute_result"
    }
   ],
   "source": [
    "#SF1 Output Lower and Upper:\n",
    "# The original dataset has a 32.6 meter step south of 4182500 N.\n",
    "# We will split this raster at that point then correct the lower portion.\n",
    "\n",
    "arcpy.management.Clip(\"dem_sf1\\\\sf1_output.tif\", \n",
    "                      \"542338.2596 4182500 554890.2596 4184862.271\", \n",
    "                      \"dem_sf1\\\\sf1_output_upper.tif\")\n",
    "\n",
    "arcpy.management.Clip(\"dem_sf1\\\\sf1_output.tif\", \n",
    "                      \"542338.2596 4178828.271 554890.2596 4182499\", \n",
    "                      \"dem_sf1\\\\sf1_output_lower.tif\")"
   ]
  },
  {
   "cell_type": "code",
   "execution_count": 30,
   "metadata": {},
   "outputs": [
    {
     "data": {
      "text/html": [
       "<h2>Output</h2>C:\\Users\\mike\\Documents\\OSU\\GEOG581\\Project\\sf_terrain\\MyProject1\\test_raster_1.tif<h2>Messages</h2>Start Time: Monday, May 31, 2021 6:50:14 PM<br/>Building Pyramids...<br/>Succeeded at Monday, May 31, 2021 6:51:33 PM (Elapsed Time: 1 minutes 18 seconds)<br/><style>.rendered_html td, .rendered_html th {text-align: left;}.rendered_html tbody {border: 1px solid black;}</style>"
      ],
      "text/plain": [
       "<Result 'C:\\\\Users\\\\mike\\\\Documents\\\\OSU\\\\GEOG581\\\\Project\\\\sf_terrain\\\\MyProject1\\\\test_raster_1.tif'>"
      ]
     },
     "execution_count": 30,
     "metadata": {},
     "output_type": "execute_result"
    }
   ],
   "source": [
    "arcpy.management.MosaicToNewRaster(\"dem_sf1\\\\sf1_output_lower.tif;\\\n",
    "                                    dem_sf2\\\\sf2_output_max.tif;\\\n",
    "                                    dems_sf2_1\\\\sf2_1_output_max.tif;\\\n",
    "                                    dem_sf3\\\\sf3_output_max.tif;\\\n",
    "                                    dem_sf4\\\\sf4_output_max.tif\",\n",
    "                                   DATA_PATH, \n",
    "                                   \"lower_lidar_data.tif\", None, \"32_BIT_SIGNED\", 1, 1, \"BLEND\", \"FIRST\")\n",
    "\n",
    "\n"
   ]
  },
  {
   "cell_type": "code",
   "execution_count": 32,
   "metadata": {},
   "outputs": [],
   "source": [
    "sf_lower_raster = arcpy.Raster(\"lower_lidar_data.tif\")\n",
    "sf_output_max_corr = sf_lower_raster + 32.6\n",
    "sf_output_max_corr.save(\"lower_lidar_data_corrected.tif\")"
   ]
  },
  {
   "cell_type": "code",
   "execution_count": 33,
   "metadata": {},
   "outputs": [
    {
     "data": {
      "text/html": [
       "<h2>Output</h2>C:\\Users\\mike\\Documents\\OSU\\GEOG581\\Project\\sf_terrain\\MyProject1\\lidar_data_corrected.tif<h2>Messages</h2>Start Time: Monday, May 31, 2021 7:14:15 PM<br/>Building Pyramids...<br/>Succeeded at Monday, May 31, 2021 7:15:31 PM (Elapsed Time: 1 minutes 16 seconds)<br/><style>.rendered_html td, .rendered_html th {text-align: left;}.rendered_html tbody {border: 1px solid black;}</style>"
      ],
      "text/plain": [
       "<Result 'C:\\\\Users\\\\mike\\\\Documents\\\\OSU\\\\GEOG581\\\\Project\\\\sf_terrain\\\\MyProject1\\\\lidar_data_corrected.tif'>"
      ]
     },
     "execution_count": 33,
     "metadata": {},
     "output_type": "execute_result"
    }
   ],
   "source": [
    "arcpy.management.MosaicToNewRaster(\"dem_sf1\\\\sf1_output_upper.tif;\\\n",
    "                                    dem_sf0\\\\sf0_output_max.tif;\\\n",
    "                                    lower_lidar_data_corrected.tif\",\n",
    "                                   DATA_PATH, \n",
    "                                   \"lidar_data_corrected.tif\", None, \"32_BIT_SIGNED\", 1, 1, \"BLEND\", \"FIRST\")"
   ]
  },
  {
   "cell_type": "code",
   "execution_count": 34,
   "metadata": {},
   "outputs": [
    {
     "data": {
      "text/html": [
       "<h2>Output</h2>C:\\Users\\mike\\Documents\\OSU\\GEOG581\\Project\\sf_terrain\\MyProject1\\ground_height.tif<h2>Messages</h2>Start Time: Monday, May 31, 2021 7:21:27 PM<br/>Succeeded at Monday, May 31, 2021 7:22:13 PM (Elapsed Time: 46.01 seconds)<br/><style>.rendered_html td, .rendered_html th {text-align: left;}.rendered_html tbody {border: 1px solid black;}</style>"
      ],
      "text/plain": [
       "<Result 'C:\\\\Users\\\\mike\\\\Documents\\\\OSU\\\\GEOG581\\\\Project\\\\sf_terrain\\\\MyProject1\\\\ground_height.tif'>"
      ]
     },
     "execution_count": 34,
     "metadata": {},
     "output_type": "execute_result"
    }
   ],
   "source": [
    "arcpy.ddd.Minus(\"lidar_data_corrected.tif\", \"sf_ned\", \"ground_height.tif\")"
   ]
  },
  {
   "cell_type": "code",
   "execution_count": null,
   "metadata": {},
   "outputs": [],
   "source": []
  }
 ],
 "metadata": {
  "kernelspec": {
   "display_name": "ArcGISPro",
   "language": "Python",
   "name": "python3"
  },
  "language_info": {
   "file_extension": ".py",
   "name": "python",
   "version": "3"
  }
 },
 "nbformat": 4,
 "nbformat_minor": 2
}
